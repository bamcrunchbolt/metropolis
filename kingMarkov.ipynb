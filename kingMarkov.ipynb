{
 "cells": [
  {
   "cell_type": "markdown",
   "metadata": {},
   "source": [
    "# King Markov's Island-Hopping Adventure!"
   ]
  },
  {
   "cell_type": "markdown",
   "metadata": {},
   "source": [
    "I know it can be disorienting to read a program if you've never programmed before, so I'm breaking it up with lots of commentary. Keep an eye out for comments (the stuff with # before it) in the code; they'll help guide you too!\n",
    "\n",
    "So below, I'm writing comments to describe the program and give credit where credit is due. Then, I'm importing packages, stuff that other people wrote and shared, so I can easily do the math I want to do, and plot the results."
   ]
  },
  {
   "cell_type": "code",
   "execution_count": 1,
   "metadata": {},
   "outputs": [],
   "source": [
    "## King Markov's Island-Hopping Adventure\n",
    "# Python adaptation of R code, pg 243 of Statistical Rethinking by Richard McElreath\n",
    "# Love, Laura.\n",
    "\n",
    "import numpy as np # Lets us easily work with arrays\n",
    "import matplotlib.pyplot as plt # Lets us plot our data"
   ]
  },
  {
   "cell_type": "markdown",
   "metadata": {},
   "source": [
    "\n",
    "\n",
    "## 1. KM travels for one year\n",
    "First, we set our initial values, and define the arrays where we're going to store records of position. "
   ]
  },
  {
   "cell_type": "code",
   "execution_count": 52,
   "metadata": {},
   "outputs": [],
   "source": [
    "numWeeks = 52 # There's 52 weeks in a year\n",
    "positions = np.zeros(numWeeks) # Right now, the king hasn't been anywhere, so \"positions\" is a whole bunch of 0's.\n",
    "current = 10. # The king is currently on island 10.\n",
    "hT = np.array([-1, 1]) # A coin. -1 = tails, 1 = heads\n",
    "numChanges = 0 #I'm interested in how many times the king moved, so I'm going to store that here."
   ]
  },
  {
   "cell_type": "markdown",
   "metadata": {},
   "source": [
    "Next, we write a for loop, that lets KM use the same decision making process each week. "
   ]
  },
  {
   "cell_type": "code",
   "execution_count": 53,
   "metadata": {},
   "outputs": [],
   "source": [
    "for i in range(0, numWeeks): # Each week...\n",
    "    positions[i] = current # The king is where he is right now\n",
    "    proposal = current + hT[np.random.randint(0, 2)] # flip the coin. \n",
    "    # This if/elif statement just lets us loop around from island 10 to island 1 if we have to.\n",
    "    if proposal < 1.:\n",
    "        proposal = 10.\n",
    "    elif proposal > 10.:\n",
    "        proposal = 1.\n",
    "    probMove = proposal/current # Pull out our shells and stones\n",
    "    decisionBag = np.random.ranf() # Load our decision bag\n",
    "    if decisionBag < float(probMove): # If we should move ... \n",
    "        current = proposal # ... then move!\n",
    "        numChanges = numChanges + 1 # And record that we moved!"
   ]
  },
  {
   "cell_type": "markdown",
   "metadata": {},
   "source": [
    "Now, we're just gonna show all our results. First, we print the number of time KM moved; then, we print a table showing the number of times each island was visited; finally, we plot our data. "
   ]
  },
  {
   "cell_type": "code",
   "execution_count": 57,
   "metadata": {},
   "outputs": [
    {
     "name": "stdout",
     "output_type": "stream",
     "text": [
      "King Markov changed position 40 times!\n",
      "Island \t Visits\n",
      "5\t1\n",
      "6\t4\n",
      "7\t7\n",
      "8\t10\n",
      "9\t13\n",
      "10\t17\n"
     ]
    },
    {
     "data": {
      "image/png": "[encoded data removed]",
      "text/plain": [
       "<Figure size 432x288 with 1 Axes>"
      ]
     },
     "metadata": {},
     "output_type": "display_data"
    }
   ],
   "source": [
    "# Print out our interesting info: \n",
    "print(\"King Markov changed position \" + str(numChanges) + \" times!\") # how many times KM moved\n",
    "# Figure out each number of island visits\n",
    "unique, counts = np.unique(positions, return_counts=True) \n",
    "visits = dict(zip(unique, counts))\n",
    "# And print them out in a nice table\n",
    "print(\"Island \\t Visits\")\n",
    "for key, value in visits.iteritems():\n",
    "    numVisits = int(key)\n",
    "    print(str(numVisits) + '\\t' + str(value))\n",
    "\n",
    "# And now we'll just plot that out! \n",
    "plt.hist(positions)\n",
    "plt.xlabel('Island')\n",
    "plt.ylabel('Times Visited')\n",
    "plt.title(\"Visits over One Year\")\n",
    "plt.show()"
   ]
  },
  {
   "cell_type": "markdown",
   "metadata": {},
   "source": [
    "You'll notice that when you compare this graph with the one on the site, it's probably different! That's because this process is based on that initial coin-flip---it's <em>random.</em> So over a short time frame, our results can be really different!\n",
    "\n",
    "Hey! Why don't you try that yourself? Go up to the start of the for loop (where it says `for i in range(0, numWeeks): # Each week...`) click in that block, and press `Ctrl+Enter`. That'll re-run the algorithm and get you new results. Then, go to the next chunk of code, where it says `# Print out our interesting info: `, and press `Ctrl+Enter` again. That'll plot your new results!\n",
    "\n",
    "Let's try it again over a long time frame---over 1,000 years, or 52,000 weeks, and compare this run to the one I showed on the website."
   ]
  },
  {
   "cell_type": "markdown",
   "metadata": {},
   "source": [
    "## 2. King Markov Travels for One Millenium"
   ]
  },
  {
   "cell_type": "markdown",
   "metadata": {},
   "source": [
    "All right. We've got to redefine our initial values for a new run. Everything is going to be the same except for numWeeks."
   ]
  },
  {
   "cell_type": "code",
   "execution_count": 61,
   "metadata": {},
   "outputs": [],
   "source": [
    "numWeeks = 52000 # There's 52000 weeks in a millenium\n",
    "positions = np.zeros(numWeeks) # Right now, the king hasn't been anywhere, so \"positions\" is a whole bunch of 0's.\n",
    "current = 10. # The king is currently on island 10.\n",
    "hT = np.array([-1, 1]) # A coin. -1 = tails, 1 = heads\n",
    "numChanges = 0 #I'm interested in how many times the king moved, so I'm going to store that here."
   ]
  },
  {
   "cell_type": "markdown",
   "metadata": {},
   "source": [
    "Now, the Metropolis algorithm hasn't changed all of a sudden, so I'm just copying and pasting the same for-loop. Because we're running it over 52,000 weeks instead of just 52 weeks, we're going to see different results."
   ]
  },
  {
   "cell_type": "code",
   "execution_count": 62,
   "metadata": {},
   "outputs": [],
   "source": [
    "for i in range(0, numWeeks): # Each week...\n",
    "    positions[i] = current # The king is where he is right now\n",
    "    proposal = current + hT[np.random.randint(0, 2)] # flip the coin. \n",
    "    # This if/elif statement just lets us loop around from island 10 to island 1 if we have to.\n",
    "    if proposal < 1.:\n",
    "        proposal = 10.\n",
    "    elif proposal > 10.:\n",
    "        proposal = 1.\n",
    "    probMove = proposal/current # Pull out our shells and stones\n",
    "    decisionBag = np.random.ranf() # Load our decision bag\n",
    "    if decisionBag < float(probMove): # If we should move ... \n",
    "        current = proposal # ... then move!\n",
    "        numChanges = numChanges + 1 # And record that we moved!"
   ]
  },
  {
   "cell_type": "markdown",
   "metadata": {},
   "source": [
    "Now we have new output that we need to show, so I'm going to use the same methods of printing and plotting. I'm only going to change some of the labels so our plot says we're running for 1,000 years instead of 1. "
   ]
  },
  {
   "cell_type": "code",
   "execution_count": 63,
   "metadata": {},
   "outputs": [
    {
     "name": "stdout",
     "output_type": "stream",
     "text": [
      "King Markov changed position 43613 times!\n",
      "Island \t Visits\n",
      "1\t949\n",
      "2\t1824\n",
      "3\t2866\n",
      "4\t3884\n",
      "5\t4901\n",
      "6\t5835\n",
      "7\t6672\n",
      "8\t7589\n",
      "9\t8341\n",
      "10\t9139\n"
     ]
    },
    {
     "data": {
      "image/png": "[encoded data removed]",
      "text/plain": [
       "<Figure size 432x288 with 1 Axes>"
      ]
     },
     "metadata": {},
     "output_type": "display_data"
    }
   ],
   "source": [
    "# Print out our interesting info: \n",
    "print(\"King Markov changed position \" + str(numChanges) + \" times!\") # how many times KM moved\n",
    "# Figure out each number of island visits\n",
    "unique, counts = np.unique(positions, return_counts=True) \n",
    "visits = dict(zip(unique, counts))\n",
    "# And print them out in a nice table\n",
    "print(\"Island \\t Visits\")\n",
    "for key, value in visits.iteritems():\n",
    "    numVisits = int(key)\n",
    "    print(str(numVisits) + '\\t' + str(value))\n",
    "\n",
    "# And now we'll just plot that out! \n",
    "plt.hist(positions)\n",
    "plt.xlabel('Island')\n",
    "plt.ylabel('Times Visited')\n",
    "plt.title(\"Visits over 1,000 Years\")\n",
    "plt.show()"
   ]
  },
  {
   "cell_type": "markdown",
   "metadata": {},
   "source": [
    "In the long run, our results are the same! That's why the Metropolis algorithm is so useful---it's super simple, and always effective. \n",
    "\n",
    "So now you can play with this! Scroll up to where it says `numWeeks = 52000`, and throw in any number you like. Then, re-run the code blocks below it, and see what output you get! "
   ]
  }
 ],
 "metadata": {
  "kernelspec": {
   "display_name": "Python 2",
   "language": "python",
   "name": "python2"
  },
  "language_info": {
   "codemirror_mode": {
    "name": "ipython",
    "version": 2
   },
   "file_extension": ".py",
   "mimetype": "text/x-python",
   "name": "python",
   "nbconvert_exporter": "python",
   "pygments_lexer": "ipython2",
   "version": "2.7.12"
  }
 },
 "nbformat": 4,
 "nbformat_minor": 2
}
