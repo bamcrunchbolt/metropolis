{
 "cells": [
  {
   "cell_type": "markdown",
   "metadata": {},
   "source": [
    "# Allele frequencies in <em>Statisticus bayesiani</em>"
   ]
  },
  {
   "cell_type": "markdown",
   "metadata": {},
   "source": [
    "Let's say we live in a magical world where populations actually are in Hardy-Weinberg equilibrium. We have a population of Bayes beetles, <em>Statisticus bayesiani</em>, and we're interested in the frequency of the allele controlling wing veining. The dominant trait (W) is branched veining, and the recessive trait (w) is parallel veining.\n",
    "\n",
    "We don't actually know how the alleles are distributed in the population, because all we can observe are <em>phenotypes</em>, not <em>genotypes</em>. But, if our population is in H-W equilibrium, we should be able to use the Metropolis algorithm to get those allele frequencies!\n",
    "\n",
    "We'll be using Bayes' theorem, which, to remind you, is"
   ]
  },
  {
   "cell_type": "markdown",
   "metadata": {},
   "source": [
    "## $Posterior = \\frac{Likelihood * Prior}{Average\\text{ }Likelihood}$"
   ]
  },
  {
   "cell_type": "markdown",
   "metadata": {},
   "source": [
    "And when we blend that with the Metropolis algorithm, that will look like "
   ]
  },
  {
   "cell_type": "markdown",
   "metadata": {},
   "source": [
    "## $Posterior = \\frac{Likelihood\\text{ }@\\text{ }our\\text{ }proposal}{Likelihood\\text{ }@\\text{ }our\\text{ }current}$"
   ]
  },
  {
   "cell_type": "markdown",
   "metadata": {},
   "source": [
    "So let's just make an assumption---that is, we'll define our prior. Let's assume that we have a uniform distribution---that is, each beetle is equally likely to have a dominant allele. Instead of a bell curve, this is going to look like a box."
   ]
  },
  {
   "cell_type": "code",
   "execution_count": 6,
   "metadata": {},
   "outputs": [],
   "source": [
    "def prior(p):\n",
    "    if p < 0 or p > 1:\n",
    "        return 0\n",
    "    else:\n",
    "        return 1"
   ]
  },
  {
   "cell_type": "markdown",
   "metadata": {},
   "source": [
    "Then, we're going to define our likelihood. For us, that's the H-W Equilibrium equation:"
   ]
  },
  {
   "cell_type": "markdown",
   "metadata": {},
   "source": [
    "## $p^{2*n_{AA}}+ 2pq^{n_{Aa}} + q^{2*n_{aa}}$"
   ]
  },
  {
   "cell_type": "markdown",
   "metadata": {},
   "source": [
    "where $n_{AA}$ is the number of homozygous dominant beetles, $n_{Aa}$ is the number of hets, and $n_{aa}$ are the homozygous recessive beetles. Now, to remind you, we do not know the actual numbers of homozygous dominant, heterozygous, or homozygous recessive beetles! Those are numbers we have to suggest."
   ]
  },
  {
   "cell_type": "code",
   "execution_count": 7,
   "metadata": {},
   "outputs": [],
   "source": [
    "def likelihood(p, numDom, numHet, numRec):\n",
    "    q = 1-p\n",
    "    hweq = p**(2*numDom) + (2*p*q)**numHet + q**(2*numRec)\n",
    "    return hweq"
   ]
  },
  {
   "cell_type": "markdown",
   "metadata": {},
   "source": [
    "Great! Now we're gonna Metropolis all of that! Below is the function, and you'll notice it is virtually the same as the function we used with King Markov. The comments are all the same to make that comparison extra clear for you."
   ]
  },
  {
   "cell_type": "code",
   "execution_count": 8,
   "metadata": {},
   "outputs": [],
   "source": [
    "def metropolis(numDom, numHet, numRec, niter, guessP, conf):\n",
    "    p = np.zeros(niter) # Right now, the king hasn't been anywhere, so the record of his positions is a whole bunch of 0's.\n",
    "    p[0] = guessP # The king is currently on island 10.\n",
    "\n",
    "    for i in range(1, niter): # Each week...\n",
    "        currentP = p[i-1] # The king is where he is right now\n",
    "        newP = currentP + np.random.normal(0, conf) # flip the coin. \n",
    "        proposal = prior(newP)*likelihood(newP,numDom, numHet, numRec) # Pull out our shells\n",
    "        current = prior(currentP) * likelihood(currentP,numDom, numHet, numRec) # and our stones\n",
    "        probMove = proposal/current\n",
    "        unifSamp = np.random.ranf() # Load our decision bag\n",
    "        if unifSamp < float(probMove): # If we should move ... \n",
    "            p[i] = newP # ... then move!\n",
    "        else:\n",
    "            p[i] =  currentP # Otherwise, stay!\n",
    "    return p"
   ]
  },
  {
   "cell_type": "markdown",
   "metadata": {},
   "source": [
    "Great! So now we have all our functions defined. We just have to decide what we're going to pass those functions. We have to decide what numbers to give for $n_{AA}$, $n_{Aa}$, and $n_{aa}$. We also have to give an actual proposal $p$, called `guessP` in our function, and decide how confidently we feel about that $p$, called `conf` in our function."
   ]
  },
  {
   "cell_type": "code",
   "execution_count": 11,
   "metadata": {},
   "outputs": [
    {
     "name": "stdout",
     "output_type": "stream",
     "text": [
      "Mean frequency of our dominant allele: 0.49647771124863094\n",
      "Standard Deviation: 0.07082102971133265\n"
     ]
    }
   ],
   "source": [
    "# Import the packages we need\n",
    "import numpy as np # Lets us easily work with arrays\n",
    "import matplotlib.pyplot as plt # Lets us plot our data\n",
    "\n",
    "## Set our values and go for it.\n",
    "n_AA = 50\n",
    "n_Aa = 21\n",
    "n_aa = 29\n",
    "niter = 10000 # Choose your favorite number. Big numbers are more accurate, but take longer.\n",
    "beetles = metropolis(n_AA, n_Aa, n_aa, , niter, 0.5, 0.01)\n",
    "mu = np.mean(beetles)\n",
    "sigma = np.std(beetles)\n",
    "print(\"Mean frequency of our dominant allele: \" + str(mu) + \"\\nStandard Deviation: \" + str(sigma))"
   ]
  },
  {
   "cell_type": "markdown",
   "metadata": {},
   "source": [
    "Amazing! We did it! Now let's plot."
   ]
  },
  {
   "cell_type": "code",
   "execution_count": 13,
   "metadata": {},
   "outputs": [
    {
     "data": {
      "image/png": "[encoded data removed]",
      "text/plain": [
       "<Figure size 432x288 with 1 Axes>"
      ]
     },
     "metadata": {},
     "output_type": "display_data"
    }
   ],
   "source": [
    "plt.hist(beetles)\n",
    "plt.xlabel('p')\n",
    "plt.ylabel('Frequency')\n",
    "plt.title(\"Frequency of the Branched Wings Allele\")\n",
    "plt.show()"
   ]
  },
  {
   "cell_type": "markdown",
   "metadata": {},
   "source": [
    "Easy as that! Now's the time to play around---try changing our inital values for allele frequency, `guessP`, and `conf`. \n",
    "1. What happens when `guessP` is very close to 1 or 0? \n",
    "2. What happens when `conf` is very large? \n",
    "3. What happens with fewer runs of the algorithm? Make `niter` 100 and find out. \n",
    "4. What about with tons and tons of runs? Make `niter` 100000000 and find out!"
   ]
  }
 ],
 "metadata": {
  "kernelspec": {
   "display_name": "Python 2",
   "language": "python",
   "name": "python2"
  },
  "language_info": {
   "codemirror_mode": {
    "name": "ipython",
    "version": 2
   },
   "file_extension": ".py",
   "mimetype": "text/x-python",
   "name": "python",
   "nbconvert_exporter": "python",
   "pygments_lexer": "ipython2",
   "version": "2.7.12"
  }
 },
 "nbformat": 4,
 "nbformat_minor": 2
}
